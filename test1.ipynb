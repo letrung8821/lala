{
 "cells": [
  {
   "cell_type": "code",
   "execution_count": null,
   "metadata": {},
   "outputs": [],
   "source": [
    "from urllib import robotparser\n",
    "\n",
    "robot_parser = robotparser.RobotFileParser()\n",
    "\n",
    "def prepare(robots_txt_url):\n",
    "    robot_parser.set_url(robots_txt_url)\n",
    "    robot_parser.read()\n",
    "def is_allowed(target_url, user_agent='*'):\n",
    "    return robot_parser.can_fecth(user_agent, target_url)\n",
    "if _name_ == '_main_':\n",
    "    prepare('http://www.apress.com/robots.txt')\n",
    "    print(is_allowed('http://www.apress.com/covers'))\n",
    "    print(is_allowed('http://www.apress.com/gp/python'))"
   ]
  }
 ],
 "metadata": {
  "language_info": {
   "name": "python"
  },
  "orig_nbformat": 4
 },
 "nbformat": 4,
 "nbformat_minor": 2
}
